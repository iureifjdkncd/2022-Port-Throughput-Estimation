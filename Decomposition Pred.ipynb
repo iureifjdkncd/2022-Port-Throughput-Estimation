{
 "cells": [
  {
   "cell_type": "code",
   "execution_count": 1,
   "id": "0ed39ba1",
   "metadata": {},
   "outputs": [],
   "source": [
    "import os\n",
    "\n",
    "import pandas as pd\n",
    "import numpy as np\n",
    "import pandas_datareader.data as pdr \n",
    "\n",
    "from sklearn.model_selection import train_test_split\n",
    "from sklearn.metrics import r2_score\n",
    "\n",
    "import matplotlib.pyplot as plt\n",
    "import matplotlib\n",
    "plt.style.use('seaborn-whitegrid')\n",
    "\n",
    "import seaborn as sns\n",
    "plt.style.use('seaborn-whitegrid')\n",
    "from pylab import rcParams\n",
    "%matplotlib inline\n",
    "import itertools\n",
    "\n",
    "import warnings \n",
    "warnings.filterwarnings(action='ignore')\n",
    "\n",
    "import math\n",
    "from sklearn.metrics import mean_squared_error, mean_absolute_error,r2_score"
   ]
  },
  {
   "cell_type": "code",
   "execution_count": 32,
   "id": "b69fa9e0",
   "metadata": {},
   "outputs": [],
   "source": [
    "def mse(y,pred):\n",
    "    return mean_squared_error(y,pred)\n",
    "\n",
    "def rmse(y,pred):\n",
    "    return np.sqrt(mean_squared_error(y,pred))\n",
    "\n",
    "def MAPE(y,pred):\n",
    "    return np.mean(np.abs((y-pred)/y)*100)    \n",
    "\n",
    "\n",
    "def evaluate_regr(y,pred): # 종합 평가지표 \n",
    "    mse_val = mse(y,pred)\n",
    "    rmse_val = rmse(y,pred)\n",
    "    mae_val = mean_absolute_error(y,pred)\n",
    "    mape_val = np.mean(np.abs((y-pred)/y)*100)\n",
    "    smape_val = 100 / len(y) * np.sum(np.abs(pred - y) / (np.abs(y) + np.abs(pred)))\n",
    "    print(\"MSE:{0:4F},RMSE:{1:4f},MAE:{2:4F},MAPE:{3:4F},SMAPE:{4:4F}\".format(mse_val,rmse_val,mae_val,mape_val,smape_val))"
   ]
  },
  {
   "cell_type": "code",
   "execution_count": 3,
   "id": "4d34da1e",
   "metadata": {},
   "outputs": [],
   "source": [
    "#한글폰트 적용\n",
    "import matplotlib.font_manager as fm\n",
    "path = 'C:/Windows/Fonts/gulim.ttc'\n",
    "font_name = fm.FontProperties(fname=path, size=50).get_name()\n",
    "plt.rc('font', family=font_name)"
   ]
  },
  {
   "cell_type": "code",
   "execution_count": 4,
   "id": "e418f5c8",
   "metadata": {},
   "outputs": [],
   "source": [
    "pd.set_option('display.max_columns', None)\n",
    "data = pd.read_csv('월별 총물동량.csv')\n",
    "data['Date'] = pd.to_datetime(data['Date'])\n",
    "data = data.set_index('Date')"
   ]
  },
  {
   "cell_type": "code",
   "execution_count": 5,
   "id": "a0887b75",
   "metadata": {},
   "outputs": [],
   "source": [
    "split = -63\n",
    "train_data = data['TEU'][0:split] \n",
    "test_data = data['TEU'][split:] "
   ]
  },
  {
   "cell_type": "markdown",
   "id": "f3ab23a0",
   "metadata": {},
   "source": [
    "### Trend"
   ]
  },
  {
   "cell_type": "code",
   "execution_count": 12,
   "id": "99af0641",
   "metadata": {},
   "outputs": [
    {
     "data": {
      "text/html": [
       "<div>\n",
       "<style scoped>\n",
       "    .dataframe tbody tr th:only-of-type {\n",
       "        vertical-align: middle;\n",
       "    }\n",
       "\n",
       "    .dataframe tbody tr th {\n",
       "        vertical-align: top;\n",
       "    }\n",
       "\n",
       "    .dataframe thead th {\n",
       "        text-align: right;\n",
       "    }\n",
       "</style>\n",
       "<table border=\"1\" class=\"dataframe\">\n",
       "  <thead>\n",
       "    <tr style=\"text-align: right;\">\n",
       "      <th></th>\n",
       "      <th>prediction</th>\n",
       "    </tr>\n",
       "    <tr>\n",
       "      <th>Date</th>\n",
       "      <th></th>\n",
       "    </tr>\n",
       "  </thead>\n",
       "  <tbody>\n",
       "    <tr>\n",
       "      <th>2017-01-31</th>\n",
       "      <td>1691724.9</td>\n",
       "    </tr>\n",
       "    <tr>\n",
       "      <th>2017-02-28</th>\n",
       "      <td>1693096.9</td>\n",
       "    </tr>\n",
       "    <tr>\n",
       "      <th>2017-03-31</th>\n",
       "      <td>1695356.2</td>\n",
       "    </tr>\n",
       "    <tr>\n",
       "      <th>2017-04-30</th>\n",
       "      <td>1701776.2</td>\n",
       "    </tr>\n",
       "    <tr>\n",
       "      <th>2017-05-31</th>\n",
       "      <td>1705854.9</td>\n",
       "    </tr>\n",
       "  </tbody>\n",
       "</table>\n",
       "</div>"
      ],
      "text/plain": [
       "            prediction\n",
       "Date                  \n",
       "2017-01-31   1691724.9\n",
       "2017-02-28   1693096.9\n",
       "2017-03-31   1695356.2\n",
       "2017-04-30   1701776.2\n",
       "2017-05-31   1705854.9"
      ]
     },
     "execution_count": 12,
     "metadata": {},
     "output_type": "execute_result"
    }
   ],
   "source": [
    "Trend = pd.read_csv('Trend예측값_GRU.csv')\n",
    "Trend['Date'] = pd.to_datetime(Trend['Date'])\n",
    "Trend = Trend.set_index('Date')\n",
    "Trend.head()"
   ]
  },
  {
   "cell_type": "markdown",
   "id": "0c0a8486",
   "metadata": {},
   "source": [
    "### Seasonal"
   ]
  },
  {
   "cell_type": "code",
   "execution_count": 13,
   "id": "44a6c064",
   "metadata": {},
   "outputs": [
    {
     "data": {
      "text/html": [
       "<div>\n",
       "<style scoped>\n",
       "    .dataframe tbody tr th:only-of-type {\n",
       "        vertical-align: middle;\n",
       "    }\n",
       "\n",
       "    .dataframe tbody tr th {\n",
       "        vertical-align: top;\n",
       "    }\n",
       "\n",
       "    .dataframe thead th {\n",
       "        text-align: right;\n",
       "    }\n",
       "</style>\n",
       "<table border=\"1\" class=\"dataframe\">\n",
       "  <thead>\n",
       "    <tr style=\"text-align: right;\">\n",
       "      <th></th>\n",
       "      <th>prediction</th>\n",
       "    </tr>\n",
       "    <tr>\n",
       "      <th>Date</th>\n",
       "      <th></th>\n",
       "    </tr>\n",
       "  </thead>\n",
       "  <tbody>\n",
       "    <tr>\n",
       "      <th>2017-01-31</th>\n",
       "      <td>-21078.205</td>\n",
       "    </tr>\n",
       "    <tr>\n",
       "      <th>2017-02-28</th>\n",
       "      <td>-116759.030</td>\n",
       "    </tr>\n",
       "    <tr>\n",
       "      <th>2017-03-31</th>\n",
       "      <td>63525.523</td>\n",
       "    </tr>\n",
       "    <tr>\n",
       "      <th>2017-04-30</th>\n",
       "      <td>39400.800</td>\n",
       "    </tr>\n",
       "    <tr>\n",
       "      <th>2017-05-31</th>\n",
       "      <td>47884.605</td>\n",
       "    </tr>\n",
       "  </tbody>\n",
       "</table>\n",
       "</div>"
      ],
      "text/plain": [
       "            prediction\n",
       "Date                  \n",
       "2017-01-31  -21078.205\n",
       "2017-02-28 -116759.030\n",
       "2017-03-31   63525.523\n",
       "2017-04-30   39400.800\n",
       "2017-05-31   47884.605"
      ]
     },
     "execution_count": 13,
     "metadata": {},
     "output_type": "execute_result"
    }
   ],
   "source": [
    "Seasonal = pd.read_csv('Seasonal예측값_BiLSTM.csv')\n",
    "Seasonal['Date'] = pd.to_datetime(Seasonal['Date'])\n",
    "Seasonal = Seasonal.set_index('Date')\n",
    "Seasonal.head()"
   ]
  },
  {
   "cell_type": "markdown",
   "id": "43aa1a54",
   "metadata": {},
   "source": [
    "### Residuals"
   ]
  },
  {
   "cell_type": "code",
   "execution_count": 14,
   "id": "3a25251b",
   "metadata": {},
   "outputs": [
    {
     "data": {
      "text/html": [
       "<div>\n",
       "<style scoped>\n",
       "    .dataframe tbody tr th:only-of-type {\n",
       "        vertical-align: middle;\n",
       "    }\n",
       "\n",
       "    .dataframe tbody tr th {\n",
       "        vertical-align: top;\n",
       "    }\n",
       "\n",
       "    .dataframe thead th {\n",
       "        text-align: right;\n",
       "    }\n",
       "</style>\n",
       "<table border=\"1\" class=\"dataframe\">\n",
       "  <thead>\n",
       "    <tr style=\"text-align: right;\">\n",
       "      <th></th>\n",
       "      <th>prediction</th>\n",
       "    </tr>\n",
       "    <tr>\n",
       "      <th>Date</th>\n",
       "      <th></th>\n",
       "    </tr>\n",
       "  </thead>\n",
       "  <tbody>\n",
       "    <tr>\n",
       "      <th>2017-01-31</th>\n",
       "      <td>-7910.0312</td>\n",
       "    </tr>\n",
       "    <tr>\n",
       "      <th>2017-02-28</th>\n",
       "      <td>-8028.9260</td>\n",
       "    </tr>\n",
       "    <tr>\n",
       "      <th>2017-03-31</th>\n",
       "      <td>-15904.3300</td>\n",
       "    </tr>\n",
       "    <tr>\n",
       "      <th>2017-04-30</th>\n",
       "      <td>5520.8820</td>\n",
       "    </tr>\n",
       "    <tr>\n",
       "      <th>2017-05-31</th>\n",
       "      <td>21914.3830</td>\n",
       "    </tr>\n",
       "  </tbody>\n",
       "</table>\n",
       "</div>"
      ],
      "text/plain": [
       "            prediction\n",
       "Date                  \n",
       "2017-01-31  -7910.0312\n",
       "2017-02-28  -8028.9260\n",
       "2017-03-31 -15904.3300\n",
       "2017-04-30   5520.8820\n",
       "2017-05-31  21914.3830"
      ]
     },
     "execution_count": 14,
     "metadata": {},
     "output_type": "execute_result"
    }
   ],
   "source": [
    "Residuals = pd.read_csv('Resid예측값_BiLSTM.csv')\n",
    "Residuals['Date'] = pd.to_datetime(Residuals['Date'])\n",
    "Residuals = Residuals.set_index('Date')\n",
    "Residuals.head()"
   ]
  },
  {
   "cell_type": "markdown",
   "id": "2c74c2c3",
   "metadata": {},
   "source": [
    "### Trend + Seasonal + Residuals"
   ]
  },
  {
   "cell_type": "code",
   "execution_count": 18,
   "id": "311a5b21",
   "metadata": {},
   "outputs": [],
   "source": [
    "pred = Trend['prediction'] + Seasonal['prediction'] + Residuals['prediction']"
   ]
  },
  {
   "cell_type": "code",
   "execution_count": 36,
   "id": "23bef7cd",
   "metadata": {
    "scrolled": false
   },
   "outputs": [
    {
     "name": "stdout",
     "output_type": "stream",
     "text": [
      "RMSE: 52053.10909306082\n",
      "MSE: 2709526166.254091\n",
      "MAE: 41032.959640317466\n",
      "RMSE: 52053.10909306082\n",
      "MAPE: 2.2479808402882226\n"
     ]
    },
    {
     "data": {
      "text/plain": [
       "Text(0.5, 1.0, 'Trend(GRU) + Seasonal(Bidirectional LSTM) + Residuals(Bidirectional LSTM)')"
      ]
     },
     "execution_count": 36,
     "metadata": {},
     "output_type": "execute_result"
    },
    {
     "data": {
      "image/png": "[encoded data removed]",
      "text/plain": [
       "<Figure size 864x432 with 1 Axes>"
      ]
     },
     "metadata": {
      "needs_background": "light"
     },
     "output_type": "display_data"
    }
   ],
   "source": [
    "rmse = np.sqrt(mean_squared_error(test_data, pred))\n",
    "print('RMSE: '+str(rmse))\n",
    "mse = mean_squared_error(test_data, pred)\n",
    "print('MSE: '+str(mse))\n",
    "mae = mean_absolute_error(test_data, pred)\n",
    "print('MAE: '+str(mae))\n",
    "rmse = math.sqrt(mean_squared_error(pred, test_data))\n",
    "print('RMSE: '+str(rmse))\n",
    "mape = np.mean(np.abs((test_data-pred)/test_data)*100)\n",
    "print('MAPE: '+str(mape))\n",
    "\n",
    "full_data_evaluation = pd.concat([data['TEU'], pred], axis=1)\n",
    "ax = full_data_evaluation.plot()\n",
    "ax.vlines('2017-01',0,2000000,linestyle='--',color='r',label='Start of Forecast')\n",
    "rcParams['figure.figsize'] = 12, 6\n",
    "fig = ax.get_figure()\n",
    "ax.legend(loc='upper left')\n",
    "plt.suptitle('Decomposition Based Forecasting Evaluation')\n",
    "plt.title('Trend(GRU) + Seasonal(Bidirectional LSTM) + Residuals(Bidirectional LSTM)')"
   ]
  }
 ],
 "metadata": {
  "kernelspec": {
   "display_name": "Python 3",
   "language": "python",
   "name": "python3"
  },
  "language_info": {
   "codemirror_mode": {
    "name": "ipython",
    "version": 3
   },
   "file_extension": ".py",
   "mimetype": "text/x-python",
   "name": "python",
   "nbconvert_exporter": "python",
   "pygments_lexer": "ipython3",
   "version": "3.8.8"
  }
 },
 "nbformat": 4,
 "nbformat_minor": 5
}
